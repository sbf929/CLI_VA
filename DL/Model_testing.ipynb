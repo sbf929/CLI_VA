{
 "cells": [
  {
   "cell_type": "markdown",
   "metadata": {},
   "source": [
    "## This is an testing environment for the model.\n",
    "____"
   ]
  },
  {
   "cell_type": "markdown",
   "metadata": {},
   "source": [
    "##### **Note**: After the model is trained, save it in a `.pth` file and create a `Model.py` scipt and copy the best Model architecture from here. In the `Model.py` you will be creating a new class with the same architecture. Remember to load the file from the same `.pth` file."
   ]
  },
  {
   "cell_type": "markdown",
   "metadata": {},
   "source": [
    "#### This testing environment will have models like:\n",
    "3. Transformer\n",
    "    * GPT\n",
    "    * BERT\n",
    "5. LSTM"
   ]
  },
  {
   "cell_type": "markdown",
   "metadata": {},
   "source": [
    "### 0. Importing Libraries:"
   ]
  },
  {
   "cell_type": "code",
   "execution_count": 1,
   "metadata": {},
   "outputs": [],
   "source": [
    "# For the model:\n",
    "import torch\n",
    "import torch.nn as nn\n",
    "import torch.optim as optim\n",
    "\n",
    "# For retrieving and loading the data:\n",
    "import json\n",
    "from torch.utils.data import DataLoader, Dataset"
   ]
  },
  {
   "cell_type": "markdown",
   "metadata": {},
   "source": [
    "### 1. Retrieving the data for **Text Classification**:"
   ]
  },
  {
   "cell_type": "code",
   "execution_count": null,
   "metadata": {},
   "outputs": [],
   "source": [
    "# Create a function to load the commands type data:\n",
    "def load_classification_types_data(filepath: str = 'Data/CommandType_examples.json'):\n",
    "    \"\"\"Loads the `CommandType_examples.json` data for command (text) classification.\"\"\"\n",
    "\n",
    "    with open (filepath, 'r') as file:\n",
    "        return json.load(file)\n"
   ]
  }
 ],
 "metadata": {
  "kernelspec": {
   "display_name": "Python 3",
   "language": "python",
   "name": "python3"
  },
  "language_info": {
   "codemirror_mode": {
    "name": "ipython",
    "version": 3
   },
   "file_extension": ".py",
   "mimetype": "text/x-python",
   "name": "python",
   "nbconvert_exporter": "python",
   "pygments_lexer": "ipython3",
   "version": "3.12.4"
  }
 },
 "nbformat": 4,
 "nbformat_minor": 2
}
